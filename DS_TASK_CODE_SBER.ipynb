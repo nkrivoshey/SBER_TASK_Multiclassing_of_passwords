{
 "cells": [
  {
   "cell_type": "markdown",
   "id": "f43b9658",
   "metadata": {},
   "source": [
    "> __В программировании по этикету необходимо сбрасывать ядро со всеми выводами при передаче своего notebook.__\n",
    "> __В моем коде присутствуют стандартные библиотеки, поэтому все они легко импортируются и запускаются. Если же возникли проблемы при запуске импортирования, то можно раскоментить блок ниже и скачать все необходимые библиотеки :)__"
   ]
  },
  {
   "cell_type": "code",
   "execution_count": null,
   "id": "016ec8c6",
   "metadata": {},
   "outputs": [],
   "source": [
    "# !pip install catboost\n",
    "# !pip install sklearn\n",
    "# !pip install string\n",
    "# !pip install seaborn\n",
    "# !pip install matplotlib\n",
    "# !pip install numpy\n",
    "# !pip install pandas"
   ]
  },
  {
   "cell_type": "markdown",
   "id": "f2fbdc07",
   "metadata": {},
   "source": [
    "## Импортирование необходимых для работы библиотек"
   ]
  },
  {
   "cell_type": "code",
   "execution_count": null,
   "id": "10619e22",
   "metadata": {},
   "outputs": [],
   "source": [
    "import matplotlib.pyplot as plt\n",
    "import seaborn as sns\n",
    "import numpy as np\n",
    "import pandas as pd\n",
    "from catboost import CatBoostClassifier\n",
    "from sklearn.model_selection import train_test_split\n",
    "from sklearn.ensemble import RandomForestClassifier\n",
    "from sklearn.compose import ColumnTransformer\n",
    "from sklearn.pipeline import Pipeline\n",
    "from sklearn.preprocessing import FunctionTransformer\n",
    "import string\n",
    "from sklearn.metrics import confusion_matrix, accuracy_score, precision_score, recall_score, f1_score, classification_report,roc_auc_score"
   ]
  },
  {
   "cell_type": "markdown",
   "id": "0d7d7513",
   "metadata": {},
   "source": [
    "## Работа с датасетом"
   ]
  },
  {
   "cell_type": "code",
   "execution_count": null,
   "id": "ceae3397",
   "metadata": {},
   "outputs": [],
   "source": [
    "df = pd.read_csv('passwords.csv')"
   ]
  },
  {
   "cell_type": "code",
   "execution_count": null,
   "id": "33f020fe",
   "metadata": {},
   "outputs": [],
   "source": [
    "# Выведем первые 5 строк сета, чтобы всегда можно было посмотреть на датасет\n",
    "df.head()"
   ]
  },
  {
   "cell_type": "code",
   "execution_count": null,
   "id": "8508c149",
   "metadata": {},
   "outputs": [],
   "source": [
    "# Проверяем есть ли пропущнные значения в паролях\n",
    "print(f\"Наличие пропущенных данных в паролях: {len(df[df.password == ''])}\")"
   ]
  },
  {
   "cell_type": "markdown",
   "id": "d15efe78",
   "metadata": {},
   "source": [
    "---\n",
    "1) ***Мы увидели, что в паролях нет пропущенных значений, поэтому нам не нужно никак заполнять пропуски или исключать эти строки из выборки***\n",
    "2) ***Далее необходимо создать дополнительные признаки из паролей, чтобы модель, смогла обучиться на закономерностях этих особенностей:***\n",
    "*  **Создаем функцию, которая делит наш пароль на признаки для обучения модели:**\n",
    "    1. ***Length (Длина):*** Этот признак представляет собой длину пароля, выраженную в количестве символов. Он указывает на общее количество символов в пароле.\n",
    "    2. ***Uppercase (Заглавные буквы):*** Этот признак представляет собой количество букв верхнего регистра (заглавных букв) в пароле. Он показывает, сколько букв верхнего регистра содержится в пароле.\n",
    "    3. ***Lowercase (Строчные буквы):*** Этот признак представляет собой количество букв нижнего регистра (строчных букв) в пароле. Он показывает, сколько букв нижнего регистра содержится в пароле.\n",
    "    4. ***Digit (Цифры):*** Этот признак представляет собой количество цифр в пароле. Он указывает, сколько цифр содержится в пароле.\n",
    "    5. ***Special Character (Специальные символы):*** Этот признак представляет собой количество специальных символов (знаки пунктуации и другие символы) в пароле. Он показывает, сколько таких символов присутствует в пароле.\n",
    "    6. ***Complexity (Сложность):*** Этот бинарный признак указывает на сложность пароля. Он равен 1, если пароль содержит как минимум 2 заглавные буквы, 3 строчные буквы, 2 цифры и 1 специальный символ; в противном случае, он равен 0.\n",
    "    7. ***Unique Characters (Уникальные символы):*** Этот признак представляет собой количество уникальных символов в пароле. Он указывает, сколько различных символов используется в пароле.\n",
    "---"
   ]
  },
  {
   "cell_type": "code",
   "execution_count": null,
   "id": "144ab930",
   "metadata": {},
   "outputs": [],
   "source": [
    "def generate_password_features(passwords_df):\n",
    "    \n",
    "    features = []\n",
    "    \n",
    "    for password, password_class in zip(passwords_df[\"password\"], passwords_df[\"strength\"]):\n",
    "        length_feature = len(password)\n",
    "        uppercase_feature = sum(1 for c in password if c.isupper())\n",
    "        lowercase_feature = sum(1 for c in password if c.islower())\n",
    "        digit_feature = sum(1 for c in password if c.isdigit())\n",
    "        special_character_feature = sum(1 for c in password if c in string.punctuation)\n",
    "        \n",
    "        complexity_feature = int(uppercase_feature >= 2 and lowercase_feature >= 3 and digit_feature >= 2 and special_character_feature >= 1)\n",
    "        \n",
    "        unique_characters_feature = len(set(password))\n",
    "        \n",
    "        features.append([password,length_feature, uppercase_feature, lowercase_feature, digit_feature, special_character_feature, complexity_feature, unique_characters_feature, password_class])\n",
    "    \n",
    "    feature_names = [\"password\",\"Length\", \"Uppercase\", \"Lowercase\", \"Digit\", \"Special Character\", \"Complexity\", \"Unique Characters\", \"strength\"]\n",
    "    \n",
    "    df = pd.DataFrame(features, columns=feature_names)\n",
    "    \n",
    "    return df"
   ]
  },
  {
   "cell_type": "code",
   "execution_count": null,
   "id": "6a0cd11e",
   "metadata": {},
   "outputs": [],
   "source": [
    "df_features = generate_password_features(df)"
   ]
  },
  {
   "cell_type": "code",
   "execution_count": null,
   "id": "de34d5b4",
   "metadata": {},
   "outputs": [],
   "source": [
    "df_features.head()"
   ]
  },
  {
   "cell_type": "code",
   "execution_count": null,
   "id": "2413563b",
   "metadata": {},
   "outputs": [],
   "source": [
    "# Отсортируем датафрейм по увелечению длины\n",
    "df_features.sort_values(by = 'Length').head()"
   ]
  },
  {
   "cell_type": "markdown",
   "id": "447e0ba0",
   "metadata": {},
   "source": [
    "---\n",
    "- ***Рассмотрим случаи, когда длина пароля состоит из одной буквы/цифры или пары символов.Как минимум это странно и врядли это можно назвать паролем,поэтому такие случаи следовало бы убирать. <font color='green'>Каким образом?</font>. На большинстве сайтов требуемая длинна пароля должна варироваться от 6 до 12 символов, поэтому следует ограничить длину пароля нижней границей -  <font color='red'>6 символами</font>***\n",
    "- ***Также хочется заметить,что в паролях содержатся недопустимые символы, однако в зависимости от политики различных сайтов ограничения на специальные символы в паролях могут отличаться. Можно зайти [на сайт Сбербанка](https://www.sberbank.ru/ru/person/kibrary/vocabulary/parol?TSPD_101_R0=08fbdc5594ab20003bbbc7801b516e88fe62422f984e380f12ef85221e4a714846f3b77dc814ba760811aa68ce14300013c8fa5830c4b64fbd137d1937ecd0dd4d558099986b01d9b56229b920c1c676ec8bad3b210db649d745dca43049b365) и посмотреть какие там требования к паролю.***\n",
    "\n",
    "> <font color='red'>***Это были бы весьма логичные замечания после проделанного анализа. Однако на следующем графике можно будет увидеть, что вариация классов сильно зависит от длины пароля. Корректировка этого признака будет ухудшать обучение модели и нарушать зависимость с регрессантом, поэтому этот признак оставляем без изменений,поскольку он будет вносить большой импакт в обучение модели.***</font>\n",
    "\n",
    "- ***На графике можно четко увидеть как происходит деление паролей на классы в зависимости от длины:***\n",
    "    1. ***0 класс - длина пароля состовляет от 1 до 7 символов***\n",
    "    2. ***1 класс - длина пароля состовляет от 8 до 13 символов***\n",
    "    3. ***2 класс - длина пароля начинатется от 14 символов***\n",
    "    \n",
    "<font color='red'>***Показатели класса пароля от длины представлены с учетом выбросов на графике****</font>\n",
    "\n",
    "--- "
   ]
  },
  {
   "cell_type": "code",
   "execution_count": null,
   "id": "4e8f09d8",
   "metadata": {},
   "outputs": [],
   "source": [
    "# Создание boxplot\n",
    "plt.figure(figsize=(10, 10))\n",
    "\n",
    "# Создание клетчатого фона\n",
    "ax = plt.gca()\n",
    "ax.set_facecolor('white')\n",
    "plt.grid(color='black', linestyle='--', linewidth=0.5)\n",
    "\n",
    "# Сортировка классов и цвета\n",
    "class_order = sorted(df_features['strength'].unique())\n",
    "class_colors = plt.cm.viridis(np.linspace(0, 1, len(class_order)))\n",
    "\n",
    "boxplot_data = [df_features[df_features['strength'] == class_val]['Length'] for class_val in class_order]\n",
    "box = plt.boxplot(boxplot_data, labels=class_order, patch_artist=True)\n",
    "\n",
    "# Установка цветов для boxplot\n",
    "for patch, color in zip(box['boxes'], class_colors):\n",
    "    patch.set_facecolor(color)\n",
    "\n",
    "# Добавление названия осей и самого графика\n",
    "plt.yticks(np.arange(0, max(df_features['Length']) + 1, 1))\n",
    "plt.xlabel('Классы паролей')\n",
    "plt.ylabel('Длина пароля')\n",
    "plt.title('Boxplot длин паролей по классам')\n",
    "plt.show()"
   ]
  },
  {
   "cell_type": "markdown",
   "id": "57f9295a",
   "metadata": {},
   "source": [
    "## Создание экземпляра и обучение модели на предобработанных данных"
   ]
  },
  {
   "cell_type": "markdown",
   "id": "f427ddd0",
   "metadata": {},
   "source": [
    "## Основной способ"
   ]
  },
  {
   "cell_type": "markdown",
   "id": "87b5e2f1",
   "metadata": {},
   "source": [
    "> ***Как было сказана выше, что вся закономерность классов паролей зависит,в большинстве своем, от длины пароля, поэтому для нашей задачи можно не перебирать модели для обучения и взять модель классификации из личных предпочтнений. На этом датасете хорошо отработают модели,основой которых является стратегия бустинга, а также алгоритмы основанные на решающих деревьях, поэтому нет особой строгости при выборе модели для этой задачи.***\n",
    "\n",
    "- **Буду использовать CatBoostClassifier в этой задаче классификации за счет его преимуществ:**\n",
    "- [ ] CatBoost может обучаться с высокой скоростью и требует меньше предварительной настройки параметров.\n",
    "- [ ] CatBoost имеет встроенные механизмы для борьбы с переобучением и автоматической остановки обучения, когда происходит переобучение.\n",
    "- [ ] CatBoost может быть эффективным на больших и сложных наборах данных."
   ]
  },
  {
   "cell_type": "code",
   "execution_count": null,
   "id": "032f9ae1",
   "metadata": {},
   "outputs": [],
   "source": [
    "# Посмотрим на баланс наших классов в датасете\n",
    "df_features.strength.value_counts()"
   ]
  },
  {
   "cell_type": "markdown",
   "id": "0247a96c",
   "metadata": {},
   "source": [
    "- - -\n",
    "\n",
    "> - **По статистике видно, что имеется дисбаланс классов в наших данных,поэтому следует применять <font color='red'>***Recall,Precision и F1***</font>.**\n",
    "> - **<font color='red'>***Accuracy***</font> простая и интуитивная метрика, которая измеряет общую точность классификации, но она подходит для сбалансированных классов.**\n",
    "\n",
    "- __Точность (Precision)__- фокусируется на точности предсказаний положительного класса\n",
    "- __Полнота (Recall)__ - фокусируется на способности модели обнаруживать положительные примеры\n",
    "- __F1-мера (F1-Score)__ - это гармоническое среднее между точностью и полнотой, что делает ее хорошим компромиссом при дисбалансе классов.\n",
    "- - -"
   ]
  },
  {
   "cell_type": "code",
   "execution_count": null,
   "id": "b797fb59",
   "metadata": {},
   "outputs": [],
   "source": [
    "#Используем default настройки модели CatBoostClassifier и не делаем тюнинг гиперпараметров, тк у нас не большой объем данных \n",
    "#и существует явная зависимость между регессоров(длина) и регрессантом\n",
    "cat = CatBoostClassifier(loss_function='MultiClass',verbose=False)"
   ]
  },
  {
   "cell_type": "code",
   "execution_count": null,
   "id": "e08f6767",
   "metadata": {},
   "outputs": [],
   "source": [
    "X = df_features[['Length', 'Uppercase', 'Lowercase', 'Digit', 'Special Character','Complexity', 'Unique Characters']]\n",
    "y = df_features.strength\n",
    "X_train, X_test, y_train, y_test = train_test_split(X, y, test_size= 0.25)"
   ]
  },
  {
   "cell_type": "code",
   "execution_count": null,
   "id": "54da18aa",
   "metadata": {},
   "outputs": [],
   "source": [
    "cat.fit(X_train,y_train,verbose = False)"
   ]
  },
  {
   "cell_type": "code",
   "execution_count": null,
   "id": "434d7de7",
   "metadata": {},
   "outputs": [],
   "source": [
    "y_pred = cat.predict(X_test)"
   ]
  },
  {
   "cell_type": "code",
   "execution_count": null,
   "id": "91a977b4",
   "metadata": {
    "scrolled": true
   },
   "outputs": [],
   "source": [
    "#Здесь average='weighted' вычислит взвешенную precision, что учитывает разные размеры классов в мультиклассовой задаче. \n",
    "precision = precision_score(y_test, y_pred,average='weighted')\n",
    "recall = recall_score(y_test, y_pred,average='weighted')\n",
    "f1 = f1_score(y_test, y_pred,average='weighted')\n",
    "# Можно сделать классификационну матрицу, которая также покажет нам показатели наших метрик\n",
    "report = classification_report(y_test, y_pred)\n",
    "print(f\"Precision: {precision:.2f}\")\n",
    "print(f\"Recall: {recall:.2f}\")\n",
    "print(f\"F1-score: {f1:.2f}\")\n",
    "print(report)"
   ]
  },
  {
   "cell_type": "markdown",
   "id": "d2eafce2",
   "metadata": {},
   "source": [
    "## Альтернативный способ решения"
   ]
  },
  {
   "cell_type": "markdown",
   "id": "b71bc7e5",
   "metadata": {},
   "source": [
    "> __Как отмечалось выше, существует явная зависимость длины пароля на качество пароля,поэтому альтернативным решением этого задания будет функция,которая также будет соотвествовать требованиями задания, поэтому можно не создавать полноценный pipeline ML задачи. Условия по ограничению длины пароля я беру с Boxplot. Пароль с 0 кол-вом символом существовать не может, поэтому строго ограничиваю нижнюю границу для \"0\" класса пароля.__\n"
   ]
  },
  {
   "cell_type": "code",
   "execution_count": null,
   "id": "df6b644c",
   "metadata": {},
   "outputs": [],
   "source": [
    "def predict_without_ml_model(passwords):\n",
    "    predictions = []\n",
    "    \n",
    "    if isinstance(passwords, str):\n",
    "        # Если передан один пароль,то преобразуем его в список, чтобы функция сделала необходимые преобразования\n",
    "        passwords = [passwords]\n",
    "        \n",
    "    for password in passwords:\n",
    "        if len(password) > 0 and len(password) < 8  :\n",
    "            predictions.append(0)\n",
    "            \n",
    "        elif len(password) >= 8 and len(password) < 14:\n",
    "            predictions.append(1)\n",
    "            \n",
    "        elif len(password) >= 14:\n",
    "            predictions.append(2)\n",
    "            \n",
    "        elif len(password) == 0:\n",
    "            return('Password with these conditions is not available')\n",
    "            \n",
    "    return predictions"
   ]
  },
  {
   "cell_type": "code",
   "execution_count": null,
   "id": "71331afe",
   "metadata": {},
   "outputs": [],
   "source": [
    "X = df.password\n",
    "y = df.strength"
   ]
  },
  {
   "cell_type": "code",
   "execution_count": null,
   "id": "0100ec4c",
   "metadata": {},
   "outputs": [],
   "source": [
    "pred = predict_without_ml_model(X)"
   ]
  },
  {
   "cell_type": "code",
   "execution_count": null,
   "id": "85b7ecc4",
   "metadata": {},
   "outputs": [],
   "source": [
    "#Смотрим на показатели метрики и делаем отчет нашей классификации,чтобы смотреть все измерения метрик в одном блоке\n",
    "precision = precision_score(y, pred, average='weighted')\n",
    "recall = recall_score(y, pred, average='weighted')\n",
    "f1 = f1_score(y, pred, average='weighted')\n",
    "report = classification_report(y, pred)\n",
    "\n",
    "print(f\"Precision: {precision:.2f}\")\n",
    "print(f\"Recall: {recall:.2f}\")\n",
    "print(f\"F1-score: {f1:.2f}\")\n",
    "print('')\n",
    "print(report)"
   ]
  },
  {
   "cell_type": "markdown",
   "id": "b274b776",
   "metadata": {},
   "source": [
    "## Блок для обучения pipeline и предсказания класса новых паролей"
   ]
  },
  {
   "cell_type": "markdown",
   "id": "999adb85",
   "metadata": {},
   "source": [
    "--- \n",
    "* ***В этом блоке записываем нашу функцию из блоков выше и контейнер, в котором будут трансформер для наших данных и модель для обучения***\n",
    "* ***Используем Pipeline, так как  это позволяет нам сразу предобрабатывать входные данные и пускать их в input модели***"
   ]
  },
  {
   "cell_type": "code",
   "execution_count": null,
   "id": "60d6e7ab",
   "metadata": {},
   "outputs": [],
   "source": [
    "def extract_numeric_password_features(passwords):\n",
    "    \n",
    "    features = []\n",
    "    \n",
    "    if isinstance(passwords, str):\n",
    "        # Если передан один пароль,то преобразуем его в список, чтобы функция сделала необходимые преобразования\n",
    "        passwords = [passwords]\n",
    "        \n",
    "    for password in passwords:\n",
    "            \n",
    "        length_feature = len(password)\n",
    "        uppercase_feature = sum(1 for c in password if c.isupper())\n",
    "        lowercase_feature = sum(1 for c in password if c.islower())\n",
    "        digit_feature = sum(1 for c in password if c.isdigit())\n",
    "        special_character_feature = sum(1 for c in password if c in string.punctuation)\n",
    "\n",
    "        complexity_feature = int(uppercase_feature >= 2 and lowercase_feature >= 3 and digit_feature >= 2 and special_character_feature >= 1)\n",
    "\n",
    "        unique_characters_feature = len(set(password))\n",
    "\n",
    "        features.append([length_feature, uppercase_feature, lowercase_feature, digit_feature, special_character_feature, complexity_feature, unique_characters_feature])\n",
    "\n",
    "    feature_names = [\"Length\", \"Uppercase\", \"Lowercase\", \"Digit\", \"Special Character\", \"Complexity\", \"Unique Characters\"]\n",
    "    \n",
    "    df = pd.DataFrame(features, columns=feature_names)\n",
    "    \n",
    "    return df\n",
    "\n",
    "# Создание трансформера для признаков\n",
    "password_feature_extractor = FunctionTransformer(func=extract_numeric_password_features, validate=False)\n",
    "\n",
    "# Создание пайплайна\n",
    "#В блоке обучения была описана причина выбора default параметров модели\n",
    "pipeline = Pipeline([\n",
    "    ('feature_extraction', FunctionTransformer(func=extract_numeric_password_features, validate=False)), # Стандартизация числовых признаков\n",
    "    ('classifier', CatBoostClassifier(loss_function='MultiClass',verbose=False))\n",
    "])"
   ]
  },
  {
   "cell_type": "code",
   "execution_count": null,
   "id": "e15907d2",
   "metadata": {},
   "outputs": [],
   "source": [
    "# Разделение на тренировочную и тестовую выборку\n",
    "X = df.password\n",
    "y = df.strength\n",
    "\n",
    "X_train, X_test, y_train, y_test = train_test_split(X, y, test_size=0.25,)\n",
    "\n",
    "#Обучение контейнера на тренировочной выборке\n",
    "pipeline.fit(X_train,y_train)\n",
    "\n",
    "#Делаем предсказание тестовых данных обученной нами моделью\n",
    "y_pred = pipeline.predict(X_test)\n",
    "\n",
    "#Смотрим на показатели метрики и делаем отчет нашей классификации,чтобы смотреть все измерения метрик в одном блоке\n",
    "precision = precision_score(y_test, y_pred,average='weighted')\n",
    "recall = recall_score(y_test, y_pred,average='weighted')\n",
    "f1 = f1_score(y_test, y_pred,average='weighted')\n",
    "report = classification_report(y_test, y_pred)\n",
    "\n",
    "print(f\"Precision: {precision:.2f}\")\n",
    "print(f\"Recall: {recall:.2f}\")\n",
    "print(f\"F1-score: {f1:.2f}\")\n",
    "print('')\n",
    "print(report)"
   ]
  },
  {
   "cell_type": "markdown",
   "id": "fc26badf",
   "metadata": {},
   "source": [
    "---\n",
    "**Рассмотрим блок для проверки новых паролей**\n",
    "\n",
    "---"
   ]
  },
  {
   "cell_type": "code",
   "execution_count": null,
   "id": "a42f2a58",
   "metadata": {},
   "outputs": [],
   "source": [
    "#Загрузка датасета в формате csv, по аналогии с форматом из задания\n",
    "df_test = pd.read_csv('')\n",
    "\n",
    "# На случай, если в выборке находятся пропущенные значения\n",
    "df_test_clear = df_test[~(df_test.passwords == '')].copy()\n",
    "\n",
    "\n",
    "# Предсказание класса паролей из новых данных\n",
    "y_pred_new = pipeline.predict(df_test_clear.passwords)\n",
    "y_true = df_test_clear.strength # Истинные значения паролей\n",
    "\n",
    "#Измерение метрик по сделанным предсказаниям\n",
    "precision = precision_score(y_true, y_pred,average='weighted')\n",
    "recall = recall_score(y_true, y_pred,average='weighted')\n",
    "f1 = f1_score(y_true, y_pred,average='weighted')\n",
    "report = classification_report(y_true, y_pred)\n",
    "\n",
    "print(f\"Precision: {precision:.2f}\")\n",
    "print(f\"Recall: {recall:.2f}\")\n",
    "print(f\"F1-score: {f1:.2f}\")\n",
    "print('')\n",
    "print(report)"
   ]
  }
 ],
 "metadata": {
  "kernelspec": {
   "display_name": "Python 3 (ipykernel)",
   "language": "python",
   "name": "python3"
  },
  "language_info": {
   "codemirror_mode": {
    "name": "ipython",
    "version": 3
   },
   "file_extension": ".py",
   "mimetype": "text/x-python",
   "name": "python",
   "nbconvert_exporter": "python",
   "pygments_lexer": "ipython3",
   "version": "3.9.10"
  }
 },
 "nbformat": 4,
 "nbformat_minor": 5
}
